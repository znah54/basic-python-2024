{
 "cells": [
  {
   "cell_type": "markdown",
   "metadata": {},
   "source": [
    "## 1번 문제"
   ]
  },
  {
   "cell_type": "code",
   "execution_count": 1,
   "metadata": {},
   "outputs": [
    {
     "name": "stdout",
     "output_type": "stream",
     "text": [
      "죄송합니다, 쌤~ 어제 축구때문에...\n"
     ]
    }
   ],
   "source": [
    "# 1번 문제\n",
    "PI = 3.141592\n",
    "radius=int(input('원의 반지름 입력\\n'))\n",
    "print(f'원의 크기는{radius * radius * PI}')"
   ]
  },
  {
   "cell_type": "markdown",
   "metadata": {},
   "source": [
    "## 2번 문제"
   ]
  },
  {
   "cell_type": "code",
   "execution_count": null,
   "metadata": {},
   "outputs": [],
   "source": [
    "x = input(\"태양계 (영어)이름 입력>> \")\n",
    "print('입력하신 값은>> ',x)\n",
    "if x == 'Mercury':\n",
    "    print('수성')\n",
    "elif x == 'Venus':\n",
    "    print('화성')\n",
    "elif x == 'Earth':\n",
    "    print('지구')\n",
    "elif x == 'Mars':\n",
    "    print('화성')\n",
    "elif x == 'Jupiter':\n",
    "    print('목성')\n",
    "elif x == 'Saturn':\n",
    "    print('토성')\n",
    "elif x == 'Uranus':\n",
    "    print('천왕성')\n",
    "elif x == 'Neptune':\n",
    "    print('해왕성')\n"
   ]
  },
  {
   "cell_type": "markdown",
   "metadata": {},
   "source": [
    "## 3번 문제"
   ]
  },
  {
   "cell_type": "code",
   "execution_count": 2,
   "metadata": {},
   "outputs": [],
   "source": [
    "# 3번 문제\n",
    "a_str = input('문자 입력 ').split() ##문자열 갯수\n",
    "for i in range(len.a_str()):\n",
    "    if(i+1)%2 == 0:\n",
    "        a_str[i] = a_str[i].upper()\n",
    "        result = ''.join(a_str)\n",
    "        result"
   ]
  },
  {
   "cell_type": "markdown",
   "metadata": {},
   "source": [
    "## 4번 문제"
   ]
  },
  {
   "cell_type": "code",
   "execution_count": 3,
   "metadata": {},
   "outputs": [],
   "source": [
    "# 4번 문제\n",
    "def get_url(a):\n",
    "    return 'www.' +(url)+ '.com'\n",
    "url=input('영문이름 웹사이트 입력 >> ')\n",
    "url=get_url\n",
    "print(url(get_url))"
   ]
  },
  {
   "cell_type": "markdown",
   "metadata": {},
   "source": [
    "## 5번 문제"
   ]
  },
  {
   "cell_type": "code",
   "execution_count": 5,
   "metadata": {},
   "outputs": [],
   "source": [
    "# 5번 문제\n",
    "a = int(input('구구단 숫자 입력 >> '))\n",
    "for i in range(1,10):\n",
    "    print('',a*i, end='')"
   ]
  }
 ],
 "metadata": {
  "kernelspec": {
   "display_name": "Python 3",
   "language": "python",
   "name": "python3"
  },
  "language_info": {
   "codemirror_mode": {
    "name": "ipython",
    "version": 3
   },
   "file_extension": ".py",
   "mimetype": "text/x-python",
   "name": "python",
   "nbconvert_exporter": "python",
   "pygments_lexer": "ipython3",
   "version": "3.11.5"
  }
 },
 "nbformat": 4,
 "nbformat_minor": 2
}
