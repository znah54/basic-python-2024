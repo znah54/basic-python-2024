{
 "cells": [
  {
   "cell_type": "markdown",
   "metadata": {},
   "source": [
    "# 주피터 노트북\n",
    "## 주피터 노트북 개요\n",
    "주피터 노트북(Jupyter Notebook)에 대한 학습\n",
    "\n",
    "### Jupyter Notebookd 이란\n",
    "2015년 주피터 재단에서 만든 오픈소스 과학연구 목적 개발 플랫폼\n",
    "https://jupyter.org/"
   ]
  },
  {
   "cell_type": "markdown",
   "metadata": {},
   "source": [
    "### Jupyter Notebook 시작\n",
    "- VS Code > 보기 > 명령 팔레트 ...(Ctrl + Shift + P) 시작\n",
    "- Create : 새 주피터 노트북 클릭\n",
    "- Untitled-1.ipynb를 저장"
   ]
  },
  {
   "cell_type": "markdown",
   "metadata": {},
   "source": [
    "### 주피터 노트북 영역\n",
    " - 코드 : 파이썬 등 소스코드 작성, 실행 공간\n",
    " - 마크다운 : 마크다운 설명 작성 공간"
   ]
  },
  {
   "cell_type": "markdown",
   "metadata": {},
   "source": [
    "### 출력\n",
    "- Ctrl + F5 실행은 안함 (터미널 사용하지 않 음)\n",
    "- print() 함수는 옵션(단 주피터노트북에서만 허용. .py에서는 반드시 print()사용)"
   ]
  },
  {
   "cell_type": "code",
   "execution_count": 1,
   "metadata": {},
   "outputs": [
    {
     "name": "stdout",
     "output_type": "stream",
     "text": [
      "Hello, J\n"
     ]
    }
   ],
   "source": [
    "print('Hello, J')"
   ]
  },
  {
   "cell_type": "markdown",
   "metadata": {},
   "source": [
    "### 주피터 노트북 단축키\n",
    "- 셀 선택모드\n",
    "    - b : 아래에 새로운 셀 추가\n",
    "    - m : 마크다운 셀로 변경\n",
    "    - y : 코드 셀로 변경\n",
    "    - shift + L : 셀에 라인번호 토글\n",
    "\n",
    "- 코드 입력모드\n",
    "    - Ctrl  + Alt + Enter : 마크다운셀은 종료, 코드셀 실행\n",
    "    - Shift + Enter : 현재셀 닫고, 아래 새 셀을 생성\n",
    "    - Ctrl + / : 주석처리"
   ]
  },
  {
   "cell_type": "markdown",
   "metadata": {},
   "source": []
  },
  {
   "cell_type": "code",
   "execution_count": null,
   "metadata": {},
   "outputs": [],
   "source": [
    "import as\n",
    "import sys"
   ]
  },
  {
   "cell_type": "markdown",
   "metadata": {},
   "source": [
    "### 주피터 노트북의 특징\n",
    "코드셀 하나에서는 변수명만 적으면 제일마지막 값만 출력\n",
    "다 출려가고 싶으면 print() 써야함"
   ]
  },
  {
   "cell_type": "code",
   "execution_count": null,
   "metadata": {},
   "outputs": [],
   "source": [
    "# 사옹중인 파이썬의 실제경로\n",
    "sys.executable"
   ]
  },
  {
   "cell_type": "markdown",
   "metadata": {},
   "source": [
    "#### 딥깅\n",
    " - 중단점은 동일\n",
    " - 디버깅은 디버그셀 Ctrl+Shift+Alt+Enter (F5 누르면 절대 안됨)\n",
    " - 디버깅 종료는 코드셀 왼쪽의 네모아이콘 클릭\n",
    " - "
   ]
  }
 ],
 "metadata": {
  "kernelspec": {
   "display_name": "Python 3",
   "language": "python",
   "name": "python3"
  },
  "language_info": {
   "codemirror_mode": {
    "name": "ipython",
    "version": 3
   },
   "file_extension": ".py",
   "mimetype": "text/x-python",
   "name": "python",
   "nbconvert_exporter": "python",
   "pygments_lexer": "ipython3",
   "version": "3.11.5"
  }
 },
 "nbformat": 4,
 "nbformat_minor": 2
}
