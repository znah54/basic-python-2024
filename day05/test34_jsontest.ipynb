{
 "cells": [
  {
   "cell_type": "markdown",
   "metadata": {},
   "source": [
    "## json Input/Output\n",
    "JSON 읽고 쓰기\n",
    "\n",
    "### JSON 포맷"
   ]
  },
  {
   "cell_type": "code",
   "execution_count": null,
   "metadata": {},
   "outputs": [],
   "source": [
    "# file : test34_json_test.ipynb\n",
    "# desc : json 예제\n",
    "json_ex = '{ \"name\" : \"TOM\", \"age\" : 27}'"
   ]
  },
  {
   "cell_type": "markdown",
   "metadata": {},
   "source": [
    "### JSON 읽기\n",
    "\n",
    "json 모듈 가져오기"
   ]
  },
  {
   "cell_type": "code",
   "execution_count": 1,
   "metadata": {},
   "outputs": [],
   "source": [
    "import json"
   ]
  },
  {
   "cell_type": "code",
   "execution_count": 9,
   "metadata": {},
   "outputs": [
    {
     "name": "stdout",
     "output_type": "stream",
     "text": [
      "{\n",
      "\t\"ionic\": {\n",
      "\t\t\"price\": 20000000,\n",
      "\t\t\"year\": \"2019\",\n",
      "\t\t\"auto\": true\n",
      "\t},\n",
      "\t\"genesis\": {\n",
      "\t\t\"price\": 80000000,\n",
      "\t\t\"year\": \"2022\",\n",
      "\t\t\"auto\": true\n",
      "\t},\n",
      "\t\"ferrari\": {\n",
      "\t\t\"price\": 1500000000,\n",
      "\t\t\"year\": \"2020\",\n",
      "\t\t\"auto\": false\n",
      "\t}\n",
      "}\n"
     ]
    }
   ],
   "source": [
    "file = open('./car.json', mode='r', encoding='utf-8') # 최초에는 파일 IO 사용\n",
    "data = json.load(file)\n",
    "file.close()\n",
    "\n",
    "print(json.dumps(data, indent='\\t')) # 문자열로 변경"
   ]
  },
  {
   "cell_type": "markdown",
   "metadata": {},
   "source": [
    "### JSON 사용"
   ]
  },
  {
   "cell_type": "code",
   "execution_count": 11,
   "metadata": {},
   "outputs": [
    {
     "data": {
      "text/plain": [
       "1500000000"
      ]
     },
     "execution_count": 11,
     "metadata": {},
     "output_type": "execute_result"
    }
   ],
   "source": [
    "data['ferrari']['price']"
   ]
  },
  {
   "cell_type": "code",
   "execution_count": null,
   "metadata": {},
   "outputs": [],
   "source": [
    "data['ferrari']['auto'] = True"
   ]
  },
  {
   "cell_type": "code",
   "execution_count": 12,
   "metadata": {},
   "outputs": [
    {
     "data": {
      "text/plain": [
       "{'ionic': {'price': 20000000, 'year': '2019', 'auto': True},\n",
       " 'genesis': {'price': 80000000, 'year': '2022', 'auto': True},\n",
       " 'ferrari': {'price': 1500000000, 'year': '2020', 'auto': False}}"
      ]
     },
     "execution_count": 12,
     "metadata": {},
     "output_type": "execute_result"
    }
   ],
   "source": [
    "data"
   ]
  },
  {
   "cell_type": "markdown",
   "metadata": {},
   "source": [
    "### JSON 쓰기"
   ]
  },
  {
   "cell_type": "code",
   "execution_count": 13,
   "metadata": {},
   "outputs": [
    {
     "data": {
      "text/plain": [
       "{'audi': {'price': 30, 'year': '2024', 'auto': True},\n",
       " 'porsche': {'price': 1000, 'year': 2017, 'auto': True}}"
      ]
     },
     "execution_count": 13,
     "metadata": {},
     "output_type": "execute_result"
    }
   ],
   "source": [
    "# json으로 만들 기본데이터 생성\n",
    "supercas = dict() # json은 딕셔너리랑 완전히 일치, 생성시도 딕셔너리로 생성\n",
    "\n",
    "audi = dict()\n",
    "audi['price'] = 30\n",
    "audi['year'] = '2024'\n",
    "audi['auto'] = True\n",
    "\n",
    "porsche = dict()\n",
    "porsche['price'] = 1000\n",
    "porsche['year'] = '2017'\n",
    "porsche['auto'] = True\n",
    "\n",
    "supercas['audi'] = audi\n",
    "supercas['porsche']=porsche\n",
    "\n",
    "supercas\n"
   ]
  },
  {
   "cell_type": "code",
   "execution_count": 33,
   "metadata": {},
   "outputs": [],
   "source": [
    "## json 열기\n",
    "f = open('./supercas.json', mode='w', encoding='utf-8')\n",
    "json.dump(supercas,f,indent='\\t',ensure_ascii=True)\n",
    "f.close()"
   ]
  },
  {
   "cell_type": "code",
   "execution_count": 43,
   "metadata": {},
   "outputs": [],
   "source": [
    "## with -> 나는 클로즈를 내가 하고 싶지 않다. 니(python)가 해줘\n",
    "with open('./supercars.json2', mode='w', encoding='utf-8') as f2:\n",
    "    json.dump(supercas,f2,indent='\\t',ensure_ascii=True)\n"
   ]
  },
  {
   "cell_type": "code",
   "execution_count": 46,
   "metadata": {},
   "outputs": [
    {
     "name": "stdout",
     "output_type": "stream",
     "text": [
      "{\n",
      "\t\"audi\": {\n",
      "\t\t\"price\": 30,\n",
      "\t\t\"year\": \"2024\",\n",
      "\t\t\"auto\": true\n",
      "\t},\n",
      "\t\"porsche\": {\n",
      "\t\t\"price\": 1000,\n",
      "\t\t\"year\": 2017,\n",
      "\t\t\"auto\": true\n",
      "\t}\n",
      "}\n"
     ]
    }
   ],
   "source": [
    "## json 파일을 읽어옴. with문 사용\n",
    "with open('./supercars.json2', mode='r', encoding='utf-8') as file:\n",
    "    data = json.load(file)\n",
    "\n",
    "print(json.dumps(data, indent='\\t')) "
   ]
  }
 ],
 "metadata": {
  "kernelspec": {
   "display_name": "Python 3",
   "language": "python",
   "name": "python3"
  },
  "language_info": {
   "codemirror_mode": {
    "name": "ipython",
    "version": 3
   },
   "file_extension": ".py",
   "mimetype": "text/x-python",
   "name": "python",
   "nbconvert_exporter": "python",
   "pygments_lexer": "ipython3",
   "version": "3.11.5"
  }
 },
 "nbformat": 4,
 "nbformat_minor": 2
}
